{
 "cells": [
  {
   "cell_type": "markdown",
   "id": "f71edf44",
   "metadata": {},
   "source": [
    "My Jupyter Notebook on IBM Studio"
   ]
  },
  {
   "cell_type": "markdown",
   "id": "eeac08fb",
   "metadata": {},
   "source": [
    "**Srilatha Stephen**\n",
    "Data Scientist"
   ]
  },
  {
   "cell_type": "markdown",
   "id": "bf289391",
   "metadata": {},
   "source": [
    "*I am interested in data science because it is a world of endless possibilities.*"
   ]
  },
  {
   "cell_type": "markdown",
   "id": "a713b4a0",
   "metadata": {},
   "source": [
    "**The code in cell 5 will give the total when you add 56 + 34**"
   ]
  },
  {
   "cell_type": "code",
   "execution_count": 2,
   "id": "a97a5c16",
   "metadata": {},
   "outputs": [
    {
     "name": "stdout",
     "output_type": "stream",
     "text": [
      "90\n"
     ]
    }
   ],
   "source": [
    "print(56+34)\n"
   ]
  },
  {
   "cell_type": "markdown",
   "id": "f4275152",
   "metadata": {},
   "source": [
    "| Header | Header|\n",
    "| ------ | ------|\n",
    "| cell   | cell  |\n",
    "| cell2  | cell2 |"
   ]
  },
  {
   "cell_type": "code",
   "execution_count": null,
   "id": "6d07c06e",
   "metadata": {},
   "outputs": [],
   "source": []
  },
  {
   "cell_type": "code",
   "execution_count": null,
   "id": "d7e3f02f",
   "metadata": {},
   "outputs": [],
   "source": []
  }
 ],
 "metadata": {
  "kernelspec": {
   "display_name": "Python 3 (ipykernel)",
   "language": "python",
   "name": "python3"
  },
  "language_info": {
   "codemirror_mode": {
    "name": "ipython",
    "version": 3
   },
   "file_extension": ".py",
   "mimetype": "text/x-python",
   "name": "python",
   "nbconvert_exporter": "python",
   "pygments_lexer": "ipython3",
   "version": "3.9.13"
  }
 },
 "nbformat": 4,
 "nbformat_minor": 5
}
